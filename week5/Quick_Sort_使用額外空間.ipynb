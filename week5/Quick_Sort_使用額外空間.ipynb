
  {
   "cell_type": "code",
   "execution_count": 6,
   "metadata": {},
   "outputs": [],
   "source": [
    "def quick_sort(list): #extra-place\n",
    "    smaller = []\n",
    "    bigger = []\n",
    "    keylist = []\n",
    "\n",
    "    if len(list) <= 1:\n",
    "        return list\n",
    "\n",
    "    else:\n",
    "        key = list[0] #第一個數為key值\n",
    "        for i in list:\n",
    "            if i < key: #比key值小的數\n",
    "                smaller.append(i)\n",
    "            elif i > key: #比key值大的數\n",
    "                bigger.append(i)\n",
    "            else:\n",
    "                keylist.append(i)\n",
    "\n",
    "    smaller = quick_sort(smaller)\n",
    "    bigger = quick_sort(bigger)\n",
    "    return smaller + keylist + bigger"
   ]
  },
  {
   "cell_type": "code",
   "execution_count": 7,
   "metadata": {},
   "outputs": [
    {
     "name": "stdout",
     "output_type": "stream",
     "text": [
      "[1, 2, 3, 4, 5, 6, 7, 8, 9, 10]\n"
     ]
    }
   ],
   "source": [
    "print(quick_sort([4,2,6,8,9,10,5,3,7,1]))"
   ]
  },
  {
   "cell_type": "code",
   "execution_count": null,
   "metadata": {},
   "outputs": [],
   "source": []
  }
 ],
 "metadata": {
  "kernelspec": {
   "display_name": "Python 3",
   "language": "python",
   "name": "python3"
  },
  "language_info": {
   "codemirror_mode": {
    "name": "ipython",
    "version": 3
   },
   "file_extension": ".py",
   "mimetype": "text/x-python",
   "name": "python",
   "nbconvert_exporter": "python",
   "pygments_lexer": "ipython3",
   "version": "3.6.4"
  }
 },
 "nbformat": 4,
 "nbformat_minor": 2
}
