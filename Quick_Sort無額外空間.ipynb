{
 "cells": [
  {
   "cell_type": "markdown",
   "metadata": {},
   "source": [
    "## in-place直接互換（無需額外空間）"
   ]
  },
  {
   "cell_type": "code",
   "execution_count": 3,
   "metadata": {},
   "outputs": [],
   "source": [
    "def quick_sort2(list, left, right): #in-place\n",
    "    if left >= right:\n",
    "        return list\n",
    "    key = list[left]\n",
    "    left_pivot = left\n",
    "    right_pivot = right\n",
    "    while left_pivot < right_pivot:\n",
    "        while left_pivot < right_pivot and list[right_pivot] >= key: #從左向右找小於key值的\n",
    "            right_pivot = right_pivot - 1\n",
    "        while left_pivot < right_pivot and list[left_pivot] <= key: #從右向左找大於key值的\n",
    "            left_pivot = left_pivot + 1\n",
    "        if left_pivot < right_pivot:\n",
    "            list[left_pivot], list[right_pivot] = list[right_pivot], list[left_pivot]\n",
    "    list[left], list[left_pivot] = list[left_pivot], list[left] #跟key值交換\n",
    "    quick_sort2(list, left, left_pivot - 1)\n",
    "    quick_sort2(list, right_pivot + 1, right)\n",
    "    return list\n",
    "\n",
    "def quick_sort(list):\n",
    "    return quick_sort2(list, 0, len(list)-1)"
   ]
  },
  {
   "cell_type": "code",
   "execution_count": 5,
   "metadata": {},
   "outputs": [
    {
     "name": "stdout",
     "output_type": "stream",
     "text": [
      "result： [1, 2, 3, 4]\n"
     ]
    }
   ],
   "source": [
    "mylist = [1,4,3,2]\n",
    "print (\"result：\", quick_sort(mylist))"
   ]
  },
  {
   "cell_type": "code",
   "execution_count": null,
   "metadata": {},
   "outputs": [],
   "source": []
  }
 ],
 "metadata": {
  "kernelspec": {
   "display_name": "Python 3",
   "language": "python",
   "name": "python3"
  },
  "language_info": {
   "codemirror_mode": {
    "name": "ipython",
    "version": 3
   },
   "file_extension": ".py",
   "mimetype": "text/x-python",
   "name": "python",
   "nbconvert_exporter": "python",
   "pygments_lexer": "ipython3",
   "version": "3.6.4"
  }
 },
 "nbformat": 4,
 "nbformat_minor": 2
}
