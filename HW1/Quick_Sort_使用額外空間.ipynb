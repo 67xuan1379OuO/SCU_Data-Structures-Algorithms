{
 "cells": [
  {
   "cell_type": "markdown",
   "metadata": {},
   "source": [
    "# 使用額外空間"
   ]
  },
  {
   "cell_type": "markdown",
   "metadata": {},
   "source": [
    "### 這是網路上的寫法，是利用 if-else 判斷來完成。\n",
    "### 我決定參考這個邏輯，並改寫屬於自己版本的程式碼："
   ]
  },
  {
   "cell_type": "code",
   "execution_count": 61,
   "metadata": {},
   "outputs": [],
   "source": [
    "def quick_sort(list): \n",
    "    smaller = []\n",
    "    bigger = []\n",
    "    keylist = []\n",
    "\n",
    "    if len(list) <= 1:\n",
    "        return list\n",
    "\n",
    "    else:\n",
    "        key = list[0] # 設定第一個數為key值\n",
    "        for i in list: # 開始比較key值與list中值的大小\n",
    "            if i < key: \n",
    "                smaller.append(i)\n",
    "            elif i > key: \n",
    "                bigger.append(i)\n",
    "            else:\n",
    "                keylist.append(i)\n",
    "\n",
    "    smaller = quick_sort(smaller) # 開始recursive\n",
    "    bigger = quick_sort(bigger)\n",
    "    keylist = quick_sort(keylist)\n",
    "\n",
    "    return smaller + keylist + bigger"
   ]
  },
  {
   "cell_type": "code",
   "execution_count": 62,
   "metadata": {},
   "outputs": [
    {
     "name": "stdout",
     "output_type": "stream",
     "text": [
      "[1, 2, 3, 4, 5, 6, 7, 8, 9, 10]\n"
     ]
    }
   ],
   "source": [
    "print(quick_sort([4,2,6,8,9,10,5,3,7,1]))"
   ]
  },
  {
   "cell_type": "code",
   "execution_count": null,
   "metadata": {},
   "outputs": [],
   "source": []
  },
  {
   "cell_type": "markdown",
   "metadata": {},
   "source": [
    "# 自己試試看Try by Myself"
   ]
  },
  {
   "cell_type": "markdown",
   "metadata": {},
   "source": [
    "### 為了確認自己真的熟悉了quicksort 的 python 程式碼寫法，我決定自己寫出一個我的版本。\n",
    "### 而且`在網路上，都是看到 if-else 寫法，所以我決定規定自己用 `**`while 迴圈`**`撰寫，以測試自己是否真的搞懂概念：`"
   ]
  },
  {
   "cell_type": "markdown",
   "metadata": {},
   "source": [
    "## 第一次測試： （while迴圈寫法）"
   ]
  },
  {
   "cell_type": "code",
   "execution_count": 63,
   "metadata": {},
   "outputs": [],
   "source": [
    "def quicksort(list):\n",
    "    # 設定好三個list來暫存quicksort程式碼執行完成的結果\n",
    "    small = []\n",
    "    big = []\n",
    "    mid = []\n",
    "    \n",
    "    # 設定key值為list的第一個值\n",
    "    key = list[0]\n",
    "    \n",
    "    # 為了使用while迴圈，先將變數l設定為list的長度\n",
    "    l = len(list)\n",
    "    \n",
    "    # 當list長度大於0時執行下面的動作\n",
    "    while l>0:\n",
    "        for i in list:\n",
    "            if i>key:\n",
    "                big.append(i) # list中大於key的值，將其存放至bigger內\n",
    "                l-=1\n",
    "            elif i<key:\n",
    "                small.append(i) # list中小於key的值，將其存放至smaller內\n",
    "                l-=1\n",
    "            else:\n",
    "                mid.append(i) # list中等於key的值，將其存放至middle內\n",
    "                l-=1\n",
    "    \n",
    "    # 針對bigger,smaller,middle分別執行recursive\n",
    "    big = quicksort(big)\n",
    "    small = quicksort(small)\n",
    "    mid = quicksort(mid)\n",
    "    return small+mid+big"
   ]
  },
  {
   "cell_type": "code",
   "execution_count": 64,
   "metadata": {},
   "outputs": [
    {
     "ename": "IndexError",
     "evalue": "list index out of range",
     "output_type": "error",
     "traceback": [
      "\u001b[0;31m---------------------------------------------------------------------------\u001b[0m",
      "\u001b[0;31mIndexError\u001b[0m                                Traceback (most recent call last)",
      "\u001b[0;32m<ipython-input-64-3f61e412de0e>\u001b[0m in \u001b[0;36m<module>\u001b[0;34m()\u001b[0m\n\u001b[0;32m----> 1\u001b[0;31m \u001b[0mprint\u001b[0m\u001b[0;34m(\u001b[0m\u001b[0mquicksort\u001b[0m\u001b[0;34m(\u001b[0m\u001b[0;34m[\u001b[0m\u001b[0;36m4\u001b[0m\u001b[0;34m,\u001b[0m\u001b[0;36m2\u001b[0m\u001b[0;34m,\u001b[0m\u001b[0;36m6\u001b[0m\u001b[0;34m,\u001b[0m\u001b[0;36m8\u001b[0m\u001b[0;34m,\u001b[0m\u001b[0;36m9\u001b[0m\u001b[0;34m,\u001b[0m\u001b[0;36m10\u001b[0m\u001b[0;34m,\u001b[0m\u001b[0;36m5\u001b[0m\u001b[0;34m,\u001b[0m\u001b[0;36m3\u001b[0m\u001b[0;34m,\u001b[0m\u001b[0;36m7\u001b[0m\u001b[0;34m,\u001b[0m\u001b[0;36m1\u001b[0m\u001b[0;34m]\u001b[0m\u001b[0;34m)\u001b[0m\u001b[0;34m)\u001b[0m\u001b[0;34m\u001b[0m\u001b[0m\n\u001b[0m",
      "\u001b[0;32m<ipython-input-63-cb5909d2bd57>\u001b[0m in \u001b[0;36mquicksort\u001b[0;34m(list)\u001b[0m\n\u001b[1;32m     25\u001b[0m \u001b[0;34m\u001b[0m\u001b[0m\n\u001b[1;32m     26\u001b[0m     \u001b[0;31m# 針對bigger,smaller,middle分別執行recursive\u001b[0m\u001b[0;34m\u001b[0m\u001b[0;34m\u001b[0m\u001b[0m\n\u001b[0;32m---> 27\u001b[0;31m     \u001b[0mbig\u001b[0m \u001b[0;34m=\u001b[0m \u001b[0mquicksort\u001b[0m\u001b[0;34m(\u001b[0m\u001b[0mbig\u001b[0m\u001b[0;34m)\u001b[0m\u001b[0;34m\u001b[0m\u001b[0m\n\u001b[0m\u001b[1;32m     28\u001b[0m     \u001b[0msmall\u001b[0m \u001b[0;34m=\u001b[0m \u001b[0mquicksort\u001b[0m\u001b[0;34m(\u001b[0m\u001b[0msmall\u001b[0m\u001b[0;34m)\u001b[0m\u001b[0;34m\u001b[0m\u001b[0m\n\u001b[1;32m     29\u001b[0m     \u001b[0mmid\u001b[0m \u001b[0;34m=\u001b[0m \u001b[0mquicksort\u001b[0m\u001b[0;34m(\u001b[0m\u001b[0mmid\u001b[0m\u001b[0;34m)\u001b[0m\u001b[0;34m\u001b[0m\u001b[0m\n",
      "\u001b[0;32m<ipython-input-63-cb5909d2bd57>\u001b[0m in \u001b[0;36mquicksort\u001b[0;34m(list)\u001b[0m\n\u001b[1;32m     25\u001b[0m \u001b[0;34m\u001b[0m\u001b[0m\n\u001b[1;32m     26\u001b[0m     \u001b[0;31m# 針對bigger,smaller,middle分別執行recursive\u001b[0m\u001b[0;34m\u001b[0m\u001b[0;34m\u001b[0m\u001b[0m\n\u001b[0;32m---> 27\u001b[0;31m     \u001b[0mbig\u001b[0m \u001b[0;34m=\u001b[0m \u001b[0mquicksort\u001b[0m\u001b[0;34m(\u001b[0m\u001b[0mbig\u001b[0m\u001b[0;34m)\u001b[0m\u001b[0;34m\u001b[0m\u001b[0m\n\u001b[0m\u001b[1;32m     28\u001b[0m     \u001b[0msmall\u001b[0m \u001b[0;34m=\u001b[0m \u001b[0mquicksort\u001b[0m\u001b[0;34m(\u001b[0m\u001b[0msmall\u001b[0m\u001b[0;34m)\u001b[0m\u001b[0;34m\u001b[0m\u001b[0m\n\u001b[1;32m     29\u001b[0m     \u001b[0mmid\u001b[0m \u001b[0;34m=\u001b[0m \u001b[0mquicksort\u001b[0m\u001b[0;34m(\u001b[0m\u001b[0mmid\u001b[0m\u001b[0;34m)\u001b[0m\u001b[0;34m\u001b[0m\u001b[0m\n",
      "\u001b[0;32m<ipython-input-63-cb5909d2bd57>\u001b[0m in \u001b[0;36mquicksort\u001b[0;34m(list)\u001b[0m\n\u001b[1;32m     25\u001b[0m \u001b[0;34m\u001b[0m\u001b[0m\n\u001b[1;32m     26\u001b[0m     \u001b[0;31m# 針對bigger,smaller,middle分別執行recursive\u001b[0m\u001b[0;34m\u001b[0m\u001b[0;34m\u001b[0m\u001b[0m\n\u001b[0;32m---> 27\u001b[0;31m     \u001b[0mbig\u001b[0m \u001b[0;34m=\u001b[0m \u001b[0mquicksort\u001b[0m\u001b[0;34m(\u001b[0m\u001b[0mbig\u001b[0m\u001b[0;34m)\u001b[0m\u001b[0;34m\u001b[0m\u001b[0m\n\u001b[0m\u001b[1;32m     28\u001b[0m     \u001b[0msmall\u001b[0m \u001b[0;34m=\u001b[0m \u001b[0mquicksort\u001b[0m\u001b[0;34m(\u001b[0m\u001b[0msmall\u001b[0m\u001b[0;34m)\u001b[0m\u001b[0;34m\u001b[0m\u001b[0m\n\u001b[1;32m     29\u001b[0m     \u001b[0mmid\u001b[0m \u001b[0;34m=\u001b[0m \u001b[0mquicksort\u001b[0m\u001b[0;34m(\u001b[0m\u001b[0mmid\u001b[0m\u001b[0;34m)\u001b[0m\u001b[0;34m\u001b[0m\u001b[0m\n",
      "\u001b[0;32m<ipython-input-63-cb5909d2bd57>\u001b[0m in \u001b[0;36mquicksort\u001b[0;34m(list)\u001b[0m\n\u001b[1;32m     25\u001b[0m \u001b[0;34m\u001b[0m\u001b[0m\n\u001b[1;32m     26\u001b[0m     \u001b[0;31m# 針對bigger,smaller,middle分別執行recursive\u001b[0m\u001b[0;34m\u001b[0m\u001b[0;34m\u001b[0m\u001b[0m\n\u001b[0;32m---> 27\u001b[0;31m     \u001b[0mbig\u001b[0m \u001b[0;34m=\u001b[0m \u001b[0mquicksort\u001b[0m\u001b[0;34m(\u001b[0m\u001b[0mbig\u001b[0m\u001b[0;34m)\u001b[0m\u001b[0;34m\u001b[0m\u001b[0m\n\u001b[0m\u001b[1;32m     28\u001b[0m     \u001b[0msmall\u001b[0m \u001b[0;34m=\u001b[0m \u001b[0mquicksort\u001b[0m\u001b[0;34m(\u001b[0m\u001b[0msmall\u001b[0m\u001b[0;34m)\u001b[0m\u001b[0;34m\u001b[0m\u001b[0m\n\u001b[1;32m     29\u001b[0m     \u001b[0mmid\u001b[0m \u001b[0;34m=\u001b[0m \u001b[0mquicksort\u001b[0m\u001b[0;34m(\u001b[0m\u001b[0mmid\u001b[0m\u001b[0;34m)\u001b[0m\u001b[0;34m\u001b[0m\u001b[0m\n",
      "\u001b[0;32m<ipython-input-63-cb5909d2bd57>\u001b[0m in \u001b[0;36mquicksort\u001b[0;34m(list)\u001b[0m\n\u001b[1;32m     25\u001b[0m \u001b[0;34m\u001b[0m\u001b[0m\n\u001b[1;32m     26\u001b[0m     \u001b[0;31m# 針對bigger,smaller,middle分別執行recursive\u001b[0m\u001b[0;34m\u001b[0m\u001b[0;34m\u001b[0m\u001b[0m\n\u001b[0;32m---> 27\u001b[0;31m     \u001b[0mbig\u001b[0m \u001b[0;34m=\u001b[0m \u001b[0mquicksort\u001b[0m\u001b[0;34m(\u001b[0m\u001b[0mbig\u001b[0m\u001b[0;34m)\u001b[0m\u001b[0;34m\u001b[0m\u001b[0m\n\u001b[0m\u001b[1;32m     28\u001b[0m     \u001b[0msmall\u001b[0m \u001b[0;34m=\u001b[0m \u001b[0mquicksort\u001b[0m\u001b[0;34m(\u001b[0m\u001b[0msmall\u001b[0m\u001b[0;34m)\u001b[0m\u001b[0;34m\u001b[0m\u001b[0m\n\u001b[1;32m     29\u001b[0m     \u001b[0mmid\u001b[0m \u001b[0;34m=\u001b[0m \u001b[0mquicksort\u001b[0m\u001b[0;34m(\u001b[0m\u001b[0mmid\u001b[0m\u001b[0;34m)\u001b[0m\u001b[0;34m\u001b[0m\u001b[0m\n",
      "\u001b[0;32m<ipython-input-63-cb5909d2bd57>\u001b[0m in \u001b[0;36mquicksort\u001b[0;34m(list)\u001b[0m\n\u001b[1;32m      6\u001b[0m \u001b[0;34m\u001b[0m\u001b[0m\n\u001b[1;32m      7\u001b[0m     \u001b[0;31m# 設定key值為list的第一個值\u001b[0m\u001b[0;34m\u001b[0m\u001b[0;34m\u001b[0m\u001b[0m\n\u001b[0;32m----> 8\u001b[0;31m     \u001b[0mkey\u001b[0m \u001b[0;34m=\u001b[0m \u001b[0mlist\u001b[0m\u001b[0;34m[\u001b[0m\u001b[0;36m0\u001b[0m\u001b[0;34m]\u001b[0m\u001b[0;34m\u001b[0m\u001b[0m\n\u001b[0m\u001b[1;32m      9\u001b[0m \u001b[0;34m\u001b[0m\u001b[0m\n\u001b[1;32m     10\u001b[0m     \u001b[0;31m# 為了使用while迴圈，先將變數l設定為list的長度\u001b[0m\u001b[0;34m\u001b[0m\u001b[0;34m\u001b[0m\u001b[0m\n",
      "\u001b[0;31mIndexError\u001b[0m: list index out of range"
     ]
    }
   ],
   "source": [
    "print(quicksort([4,2,6,8,9,10,5,3,7,1]))"
   ]
  },
  {
   "cell_type": "markdown",
   "metadata": {},
   "source": [
    "**`執行錯誤：list index out of range`**\n",
    "\n",
    "**`思考`：**想到一種可能，剛剛程式撰寫過程，少考慮了若原本的list長度小於0的這個情況，所以剛剛的程式會出錯～"
   ]
  },
  {
   "cell_type": "markdown",
   "metadata": {},
   "source": [
    "所以我就在程式碼的一開始，先加入了判斷list長度的程式："
   ]
  },
  {
   "cell_type": "code",
   "execution_count": 65,
   "metadata": {},
   "outputs": [],
   "source": [
    "def quicksort(list):\n",
    "    # 設定好三個list來暫存quicksort程式碼執行完成的結果\n",
    "    small = []\n",
    "    big = []\n",
    "    mid = []\n",
    "    \n",
    "    # 為了使用while迴圈，先將變數l設定為list的長度\n",
    "    l = len(list)\n",
    "    \n",
    "    # 判斷list長度，若<=1則直接返回list\n",
    "    if l <= 1:\n",
    "        return list\n",
    "    \n",
    "    # 設定key值為list的第一個值\n",
    "    key = list[0]\n",
    "    \n",
    "    # 當list長度大於0時執行下面的動作\n",
    "    while l>0:\n",
    "        for i in list:\n",
    "            if i>key:\n",
    "                big.append(i) # list中大於key的值，將其存放至bigger內\n",
    "                l-=1\n",
    "            elif i<key:\n",
    "                small.append(i) # list中小於key的值，將其存放至smaller內\n",
    "                l-=1\n",
    "            else:\n",
    "                mid.append(i) # list中等於key的值，將其存放至middle內\n",
    "                l-=1\n",
    "    \n",
    "    # 針對bigger,smaller,middle分別執行recursive\n",
    "    big = quicksort(big)\n",
    "    small = quicksort(small)\n",
    "    return small+mid+big"
   ]
  },
  {
   "cell_type": "code",
   "execution_count": 66,
   "metadata": {},
   "outputs": [
    {
     "name": "stdout",
     "output_type": "stream",
     "text": [
      "[1, 2, 3, 4, 5, 6, 7, 8, 9, 10]\n"
     ]
    }
   ],
   "source": [
    "print(quicksort([4,2,6,8,9,10,5,3,7,1]))"
   ]
  },
  {
   "cell_type": "markdown",
   "metadata": {},
   "source": [
    "為了確保程式執行的正確性，在測試一組數值試試看："
   ]
  },
  {
   "cell_type": "code",
   "execution_count": 67,
   "metadata": {},
   "outputs": [
    {
     "name": "stdout",
     "output_type": "stream",
     "text": [
      "[1, 2, 2, 3, 4, 5, 7, 8, 10, 10, 11, 11, 13, 14, 14, 15, 19, 19, 20]\n"
     ]
    }
   ],
   "source": [
    "print(quicksort([2,2,8,10,10,20,19,19,11,11,13,14,15,14,4,5,7,3,1]))"
   ]
  },
  {
   "cell_type": "code",
   "execution_count": null,
   "metadata": {},
   "outputs": [],
   "source": []
  },
  {
   "cell_type": "markdown",
   "metadata": {},
   "source": [
    "## 第二次測試： （多個definition寫法）"
   ]
  },
  {
   "cell_type": "markdown",
   "metadata": {},
   "source": [
    "### 記得上課中老師提到過，可將 if-else 迴圈的部分另外寫成 defintion 試試看。所以我決定也來挑戰這種寫法："
   ]
  },
  {
   "cell_type": "code",
   "execution_count": 68,
   "metadata": {},
   "outputs": [],
   "source": [
    "def quicksort(list):\n",
    "    if len(list)<=1:\n",
    "        return list\n",
    "    else:\n",
    "        small = partition(list)\n",
    "        big = partition(list)\n",
    "        mid = partition(list)\n",
    "    small = quicksort(small)\n",
    "    big = quicksort(big)\n",
    "    return small+mid+big"
   ]
  },
  {
   "cell_type": "code",
   "execution_count": 69,
   "metadata": {},
   "outputs": [],
   "source": [
    "def partition(list):\n",
    "    key= list[0]\n",
    "    s = []\n",
    "    b = []\n",
    "    m = []\n",
    "    for i in list:\n",
    "        if i<key:\n",
    "            s.append(i)\n",
    "        elif i>key:\n",
    "            b.append(i)\n",
    "        else:\n",
    "            m.append(i)"
   ]
  },
  {
   "cell_type": "code",
   "execution_count": 70,
   "metadata": {},
   "outputs": [
    {
     "ename": "TypeError",
     "evalue": "object of type 'NoneType' has no len()",
     "output_type": "error",
     "traceback": [
      "\u001b[0;31m---------------------------------------------------------------------------\u001b[0m",
      "\u001b[0;31mTypeError\u001b[0m                                 Traceback (most recent call last)",
      "\u001b[0;32m<ipython-input-70-3f61e412de0e>\u001b[0m in \u001b[0;36m<module>\u001b[0;34m()\u001b[0m\n\u001b[0;32m----> 1\u001b[0;31m \u001b[0mprint\u001b[0m\u001b[0;34m(\u001b[0m\u001b[0mquicksort\u001b[0m\u001b[0;34m(\u001b[0m\u001b[0;34m[\u001b[0m\u001b[0;36m4\u001b[0m\u001b[0;34m,\u001b[0m\u001b[0;36m2\u001b[0m\u001b[0;34m,\u001b[0m\u001b[0;36m6\u001b[0m\u001b[0;34m,\u001b[0m\u001b[0;36m8\u001b[0m\u001b[0;34m,\u001b[0m\u001b[0;36m9\u001b[0m\u001b[0;34m,\u001b[0m\u001b[0;36m10\u001b[0m\u001b[0;34m,\u001b[0m\u001b[0;36m5\u001b[0m\u001b[0;34m,\u001b[0m\u001b[0;36m3\u001b[0m\u001b[0;34m,\u001b[0m\u001b[0;36m7\u001b[0m\u001b[0;34m,\u001b[0m\u001b[0;36m1\u001b[0m\u001b[0;34m]\u001b[0m\u001b[0;34m)\u001b[0m\u001b[0;34m)\u001b[0m\u001b[0;34m\u001b[0m\u001b[0m\n\u001b[0m",
      "\u001b[0;32m<ipython-input-68-0cb51b5bc174>\u001b[0m in \u001b[0;36mquicksort\u001b[0;34m(list)\u001b[0m\n\u001b[1;32m      6\u001b[0m         \u001b[0mbig\u001b[0m \u001b[0;34m=\u001b[0m \u001b[0mpartition\u001b[0m\u001b[0;34m(\u001b[0m\u001b[0mlist\u001b[0m\u001b[0;34m)\u001b[0m\u001b[0;34m\u001b[0m\u001b[0m\n\u001b[1;32m      7\u001b[0m         \u001b[0mmid\u001b[0m \u001b[0;34m=\u001b[0m \u001b[0mpartition\u001b[0m\u001b[0;34m(\u001b[0m\u001b[0mlist\u001b[0m\u001b[0;34m)\u001b[0m\u001b[0;34m\u001b[0m\u001b[0m\n\u001b[0;32m----> 8\u001b[0;31m     \u001b[0msmall\u001b[0m \u001b[0;34m=\u001b[0m \u001b[0mquicksort\u001b[0m\u001b[0;34m(\u001b[0m\u001b[0msmall\u001b[0m\u001b[0;34m)\u001b[0m\u001b[0;34m\u001b[0m\u001b[0m\n\u001b[0m\u001b[1;32m      9\u001b[0m     \u001b[0mbig\u001b[0m \u001b[0;34m=\u001b[0m \u001b[0mquicksort\u001b[0m\u001b[0;34m(\u001b[0m\u001b[0mbig\u001b[0m\u001b[0;34m)\u001b[0m\u001b[0;34m\u001b[0m\u001b[0m\n\u001b[1;32m     10\u001b[0m     \u001b[0;32mreturn\u001b[0m \u001b[0msmall\u001b[0m\u001b[0;34m+\u001b[0m\u001b[0mmid\u001b[0m\u001b[0;34m+\u001b[0m\u001b[0mbig\u001b[0m\u001b[0;34m\u001b[0m\u001b[0m\n",
      "\u001b[0;32m<ipython-input-68-0cb51b5bc174>\u001b[0m in \u001b[0;36mquicksort\u001b[0;34m(list)\u001b[0m\n\u001b[1;32m      1\u001b[0m \u001b[0;32mdef\u001b[0m \u001b[0mquicksort\u001b[0m\u001b[0;34m(\u001b[0m\u001b[0mlist\u001b[0m\u001b[0;34m)\u001b[0m\u001b[0;34m:\u001b[0m\u001b[0;34m\u001b[0m\u001b[0m\n\u001b[0;32m----> 2\u001b[0;31m     \u001b[0;32mif\u001b[0m \u001b[0mlen\u001b[0m\u001b[0;34m(\u001b[0m\u001b[0mlist\u001b[0m\u001b[0;34m)\u001b[0m\u001b[0;34m<=\u001b[0m\u001b[0;36m1\u001b[0m\u001b[0;34m:\u001b[0m\u001b[0;34m\u001b[0m\u001b[0m\n\u001b[0m\u001b[1;32m      3\u001b[0m         \u001b[0;32mreturn\u001b[0m \u001b[0mlist\u001b[0m\u001b[0;34m\u001b[0m\u001b[0m\n\u001b[1;32m      4\u001b[0m     \u001b[0;32melse\u001b[0m\u001b[0;34m:\u001b[0m\u001b[0;34m\u001b[0m\u001b[0m\n\u001b[1;32m      5\u001b[0m         \u001b[0msmall\u001b[0m \u001b[0;34m=\u001b[0m \u001b[0mpartition\u001b[0m\u001b[0;34m(\u001b[0m\u001b[0mlist\u001b[0m\u001b[0;34m)\u001b[0m\u001b[0;34m\u001b[0m\u001b[0m\n",
      "\u001b[0;31mTypeError\u001b[0m: object of type 'NoneType' has no len()"
     ]
    }
   ],
   "source": [
    "print(quicksort([4,2,6,8,9,10,5,3,7,1]))"
   ]
  },
  {
   "cell_type": "markdown",
   "metadata": {},
   "source": [
    "**`執行錯誤：object of type 'NoneType' has no len()`**\n",
    "\n",
    "**`思考`：**想了很久覺得可能是因為small,big,mid共用了一個def partition來執行，並未告知程式何為small、何為big以及何為mid，所以導致recursive後，list長度出現錯誤。所以我決定試試看將def分成3個來撰寫。"
   ]
  },
  {
   "cell_type": "code",
   "execution_count": 71,
   "metadata": {},
   "outputs": [],
   "source": [
    "def quicksort2(list):\n",
    "    if len(list)<=1:\n",
    "        return list\n",
    "    else:\n",
    "        small = smaller(list)\n",
    "        big = bigger(list)\n",
    "        mid = middle(list)\n",
    "        \n",
    "    small = quicksort2(small)\n",
    "    big = quicksort2(big)\n",
    "    return small+mid+big"
   ]
  },
  {
   "cell_type": "code",
   "execution_count": 72,
   "metadata": {},
   "outputs": [],
   "source": [
    "def smaller(list):\n",
    "    key = list[0]\n",
    "    small=[]\n",
    "    for i in list:\n",
    "        if i<key:\n",
    "            small.append(i)\n",
    "    return small\n",
    "            \n",
    "def bigger(list):\n",
    "    key = list[0]\n",
    "    big=[]\n",
    "    for i in list:\n",
    "        if i>key:\n",
    "            big.append(i)\n",
    "    return big\n",
    "            \n",
    "def middle(list):\n",
    "    key = list[0]\n",
    "    mid=[]\n",
    "    for i in list:\n",
    "        if i==key:\n",
    "            mid.append(i)\n",
    "    return mid"
   ]
  },
  {
   "cell_type": "code",
   "execution_count": 73,
   "metadata": {},
   "outputs": [
    {
     "name": "stdout",
     "output_type": "stream",
     "text": [
      "[1, 2, 3, 4, 5, 6, 7, 8, 9, 10]\n"
     ]
    }
   ],
   "source": [
    "print(quicksort2([4,2,6,8,9,10,5,3,7,1]))"
   ]
  },
  {
   "cell_type": "markdown",
   "metadata": {},
   "source": [
    "正確了！！！！再執行一組數值測試看看！！"
   ]
  },
  {
   "cell_type": "code",
   "execution_count": 74,
   "metadata": {},
   "outputs": [
    {
     "name": "stdout",
     "output_type": "stream",
     "text": [
      "[1, 2, 2, 3, 4, 5, 7, 8, 10, 10, 11, 11, 13, 14, 14, 15, 19, 19, 20]\n"
     ]
    }
   ],
   "source": [
    "print(quicksort2([2,2,8,10,10,20,19,19,11,11,13,14,15,14,4,5,7,3,1]))"
   ]
  },
  {
   "cell_type": "code",
   "execution_count": null,
   "metadata": {},
   "outputs": [],
   "source": []
  }
 ],
 "metadata": {
  "kernelspec": {
   "display_name": "Python 3",
   "language": "python",
   "name": "python3"
  },
  "language_info": {
   "codemirror_mode": {
    "name": "ipython",
    "version": 3
   },
   "file_extension": ".py",
   "mimetype": "text/x-python",
   "name": "python",
   "nbconvert_exporter": "python",
   "pygments_lexer": "ipython3",
   "version": "3.6.4"
  }
 },
 "nbformat": 4,
 "nbformat_minor": 2
}
