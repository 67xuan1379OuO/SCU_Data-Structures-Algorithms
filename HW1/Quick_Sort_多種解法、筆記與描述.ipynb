{
 "cells": [
  {
   "cell_type": "markdown",
   "metadata": {},
   "source": [
    "# 對於Quicksort，我的了解："
   ]
  },
  {
   "cell_type": "markdown",
   "metadata": {},
   "source": [
    "**`快速排序法（Quick sort）`** ：\n",
    "1. 先找一個基準點（key），然後派兩個變數，分別從資料的左右兩端開始向中間找。\n",
    "2. 當右邊找到一個值比key小，左邊找到一個值比key大，就讓他們互換。\n",
    "3. 反覆此動作直到兩個點的位置相同。再將該位置的值與key互換。\n",
    "4. 接著以新的基準點將原數列分為兩半，並分別重複執行前述動作。\n",
    "5. 把數列一分為二，遞迴(recursion)執行quicksort，直到list不能再進行切割為止，即完成排序。"
   ]
  },
  {
   "cell_type": "markdown",
   "metadata": {},
   "source": [
    "# 先以簡單的例子來了解Quicksort的流程，再來撰寫程式："
   ]
  },
  {
   "cell_type": "markdown",
   "metadata": {},
   "source": [
    "* 舉例來說，有一數列有數字1~8，並選擇基準點為8。\n",
    "\n",
    "   **6**　8　1　5　3　2　7　4\n",
    "\n",
    "* 接著從左右兩邊開始分頭找。左邊找比基準點大的點，右邊找比基準點小的點。\n",
    "\n",
    "   **6**　**`8`**　1　5　3　2　7　**`4`**\n",
    "\n",
    "* 然後將找到的兩個點互換，使左邊的點漸漸比右邊來的小。\n",
    "\n",
    "   **6**　**`4`**　1　5　3　2　7　**`8`**\n",
    "\n",
    "* 接著就繼續往下找：\n",
    "\n",
    "   **6**　4　`1`　5　3　2　`7`　8\n",
    "\n",
    "   **6**　4　1　`5`　3　`2`　7　8\n",
    "\n",
    "* 只要找到就將其再互換：\n",
    "\n",
    "   **6**　4　1　**`2`**　3　**`5`**　7　8\n",
    "\n",
    "* 繼續往下找，直到左邊的點等於右邊的點（本例子在3的位子）。\n",
    "\n",
    "   **6**　4　1　2　**`3`**　5　7　8\n",
    "\n",
    "* 將上述的點與基準點互換：\n",
    "\n",
    "   **`3`**　4　1　2　**`6`**　5　7　8\n",
    "\n",
    "* 以新的基準點將原數列分為兩個子循環。\n",
    "\n",
    "   ( 3　4　1　2　) 　　+　　6 (基準點)　　+ 　　( 5　7　8 )\n",
    "\n",
    "* 兩個子循環再分別重複以上所有動作。最終呈現結果為：\n",
    "\n",
    "   1　2　3　4　5　6　7　8"
   ]
  },
  {
   "cell_type": "markdown",
   "metadata": {},
   "source": [
    "# Quicksort的時間複雜度"
   ]
  },
  {
   "cell_type": "markdown",
   "metadata": {},
   "source": [
    "* **Average Time**：O(n log n )\n",
    "\n",
    "* **Best Time**：O(n log n )\n",
    "\n",
    "* **Worst Time**：O(n^2)"
   ]
  },
  {
   "cell_type": "markdown",
   "metadata": {},
   "source": [
    "# 從上述流程我大概理解到，Quicksort主要可將程式碼分為3個部分："
   ]
  },
  {
   "cell_type": "markdown",
   "metadata": {},
   "source": [
    "1. 先設立一個key值，用來比較list中的其他數值。\n",
    "2. 將list中的數值兩兩比較後，大於key值的點需與小於key值的點的位置交換。\n",
    "3. 左邊點的位置等於右邊點的位置時，即將該點與key值位置交換，形成新的key值，並分割為兩個list。\n",
    "4. 開始遞迴執行quicksort程式直到排序完成。"
   ]
  },
  {
   "cell_type": "markdown",
   "metadata": {},
   "source": [
    "# 此時我腦海中大概浮現了第一種解法："
   ]
  },
  {
   "cell_type": "markdown",
   "metadata": {},
   "source": [
    "### 創造三個list分別暫存分類好的數值，再將三個list合併，形成最終排序好的list。\n",
    "\n",
    "而上述的方法我初步構想的架構如下："
   ]
  },
  {
   "cell_type": "code",
   "execution_count": null,
   "metadata": {},
   "outputs": [],
   "source": [
    "# 先定義出三個暫存空間list\n",
    "big = []\n",
    "small = []\n",
    "mid = []\n",
    "\n",
    "# 選取key值\n",
    "key = list中某的數值\n",
    "\n",
    "# 開始判斷list中數值與key值的大小\n",
    "if list中的某數值 > key:\n",
    "    big.append(list中某數值)\n",
    "elif list中的某數值 < key:\n",
    "    small.append(list中某數值)\n",
    "else list中的某數值 = key:\n",
    "    mid.append(list中某數值)"
   ]
  },
  {
   "cell_type": "markdown",
   "metadata": {},
   "source": [
    "而該如何使程式自動化判斷list中的值？我決定先試試看for迴圈的方式："
   ]
  },
  {
   "cell_type": "code",
   "execution_count": 138,
   "metadata": {},
   "outputs": [],
   "source": [
    "def quicksort1(list):\n",
    "    small = []\n",
    "    big = []\n",
    "    mid = []\n",
    "\n",
    "    key = list[0] \n",
    "    for i in list: # 開始比較key值與list中值的大小\n",
    "        if i < key: \n",
    "            small.append(i)\n",
    "        elif i > key: \n",
    "            big.append(i)\n",
    "        else:\n",
    "            mid.append(i)\n",
    "\n",
    "    small = quick_sort(small) # 開始recursive\n",
    "    big = quick_sort(big)\n",
    "    mid = quick_sort(mid)\n",
    "\n",
    "    return small + mid + big"
   ]
  },
  {
   "cell_type": "code",
   "execution_count": 139,
   "metadata": {},
   "outputs": [
    {
     "name": "stdout",
     "output_type": "stream",
     "text": [
      "[1, 2, 3, 4, 5, 6, 7, 8, 9, 10]\n"
     ]
    }
   ],
   "source": [
    "print(quicksort1([4,2,6,8,9,10,5,3,7,1]))"
   ]
  },
  {
   "cell_type": "markdown",
   "metadata": {},
   "source": [
    "這是正常的測試值，我們來測試一點機車的測值看看XD 例如：如果list原本為空呢？"
   ]
  },
  {
   "cell_type": "code",
   "execution_count": 141,
   "metadata": {},
   "outputs": [
    {
     "ename": "IndexError",
     "evalue": "list index out of range",
     "output_type": "error",
     "traceback": [
      "\u001b[0;31m---------------------------------------------------------------------------\u001b[0m",
      "\u001b[0;31mIndexError\u001b[0m                                Traceback (most recent call last)",
      "\u001b[0;32m<ipython-input-141-4b43b0cf1027>\u001b[0m in \u001b[0;36m<module>\u001b[0;34m()\u001b[0m\n\u001b[0;32m----> 1\u001b[0;31m \u001b[0mprint\u001b[0m\u001b[0;34m(\u001b[0m\u001b[0mquicksort1\u001b[0m\u001b[0;34m(\u001b[0m\u001b[0;34m[\u001b[0m\u001b[0;34m]\u001b[0m\u001b[0;34m)\u001b[0m\u001b[0;34m)\u001b[0m\u001b[0;34m\u001b[0m\u001b[0m\n\u001b[0m",
      "\u001b[0;32m<ipython-input-138-cc967ff61d54>\u001b[0m in \u001b[0;36mquicksort1\u001b[0;34m(list)\u001b[0m\n\u001b[1;32m      4\u001b[0m     \u001b[0mmid\u001b[0m \u001b[0;34m=\u001b[0m \u001b[0;34m[\u001b[0m\u001b[0;34m]\u001b[0m\u001b[0;34m\u001b[0m\u001b[0m\n\u001b[1;32m      5\u001b[0m \u001b[0;34m\u001b[0m\u001b[0m\n\u001b[0;32m----> 6\u001b[0;31m     \u001b[0mkey\u001b[0m \u001b[0;34m=\u001b[0m \u001b[0mlist\u001b[0m\u001b[0;34m[\u001b[0m\u001b[0;36m0\u001b[0m\u001b[0;34m]\u001b[0m\u001b[0;34m\u001b[0m\u001b[0m\n\u001b[0m\u001b[1;32m      7\u001b[0m     \u001b[0;32mfor\u001b[0m \u001b[0mi\u001b[0m \u001b[0;32min\u001b[0m \u001b[0mlist\u001b[0m\u001b[0;34m:\u001b[0m \u001b[0;31m# 開始比較key值與list中值的大小\u001b[0m\u001b[0;34m\u001b[0m\u001b[0m\n\u001b[1;32m      8\u001b[0m         \u001b[0;32mif\u001b[0m \u001b[0mi\u001b[0m \u001b[0;34m<\u001b[0m \u001b[0mkey\u001b[0m\u001b[0;34m:\u001b[0m\u001b[0;34m\u001b[0m\u001b[0m\n",
      "\u001b[0;31mIndexError\u001b[0m: list index out of range"
     ]
    }
   ],
   "source": [
    "print(quicksort1([]))"
   ]
  },
  {
   "cell_type": "markdown",
   "metadata": {},
   "source": [
    "在這邊發現原本的程式碼不能解決原本是空的list QQ 所以我想應該要在for迴圈前先判斷是否list中有值吧\n",
    "\n",
    "這個部分我覺得用最常用的if-else來試試看"
   ]
  },
  {
   "cell_type": "code",
   "execution_count": 142,
   "metadata": {},
   "outputs": [],
   "source": [
    "def quicksort1(list):\n",
    "    small = []\n",
    "    big = []\n",
    "    mid = []\n",
    "\n",
    "    if len(list)<=1:\n",
    "        return list\n",
    "    else:\n",
    "        key = list[0] \n",
    "        for i in list: # 開始比較key值與list中值的大小\n",
    "            if i < key: \n",
    "                small.append(i)\n",
    "            elif i > key: \n",
    "                big.append(i)\n",
    "            else:\n",
    "                mid.append(i)\n",
    "\n",
    "    small = quick_sort(small) # 開始recursive\n",
    "    big = quick_sort(big)\n",
    "    mid = quick_sort(mid)\n",
    "\n",
    "    return small + mid + big"
   ]
  },
  {
   "cell_type": "code",
   "execution_count": 143,
   "metadata": {},
   "outputs": [
    {
     "name": "stdout",
     "output_type": "stream",
     "text": [
      "[1, 2, 3, 4, 5, 6, 7, 8, 9, 10]\n"
     ]
    }
   ],
   "source": [
    "print(quicksort1([4,2,6,8,9,10,5,3,7,1]))"
   ]
  },
  {
   "cell_type": "code",
   "execution_count": 144,
   "metadata": {},
   "outputs": [
    {
     "name": "stdout",
     "output_type": "stream",
     "text": [
      "[]\n"
     ]
    }
   ],
   "source": [
    "print(quicksort1([]))"
   ]
  },
  {
   "cell_type": "markdown",
   "metadata": {},
   "source": [
    "如此一來，就算list為空，也沒有error出現了！！"
   ]
  },
  {
   "cell_type": "markdown",
   "metadata": {},
   "source": [
    "# 為了確認自己真的熟悉Quicksort 概念，我決定挑戰自己，要用 while 迴圈撰寫："
   ]
  },
  {
   "cell_type": "markdown",
   "metadata": {},
   "source": [
    "## 第一次測試： "
   ]
  },
  {
   "cell_type": "code",
   "execution_count": 146,
   "metadata": {},
   "outputs": [],
   "source": [
    "def quicksort(list):\n",
    "    # 設定好三個list來暫存quicksort程式碼執行完成的結果\n",
    "    small = []\n",
    "    big = []\n",
    "    mid = []\n",
    "    \n",
    "    # 設定key值為list的第一個值\n",
    "    key = list[0]\n",
    "    \n",
    "    # 為了使用while迴圈，先將變數l設定為list的長度\n",
    "    l = len(list)\n",
    "    \n",
    "    # 當list長度大於0時執行下面的動作\n",
    "    while l>0:\n",
    "        for i in list:\n",
    "            if i>key:\n",
    "                big.append(i) # list中大於key的值，將其存放至bigger內\n",
    "                l-=1\n",
    "            elif i<key:\n",
    "                small.append(i) # list中小於key的值，將其存放至smaller內\n",
    "                l-=1\n",
    "            else:\n",
    "                mid.append(i) # list中等於key的值，將其存放至middle內\n",
    "                l-=1\n",
    "    \n",
    "    # 針對bigger,smaller,middle分別執行recursive\n",
    "    big = quicksort(big)\n",
    "    small = quicksort(small)\n",
    "    mid = quicksort(mid)\n",
    "    return small+mid+big"
   ]
  },
  {
   "cell_type": "code",
   "execution_count": 147,
   "metadata": {},
   "outputs": [
    {
     "ename": "IndexError",
     "evalue": "list index out of range",
     "output_type": "error",
     "traceback": [
      "\u001b[0;31m---------------------------------------------------------------------------\u001b[0m",
      "\u001b[0;31mIndexError\u001b[0m                                Traceback (most recent call last)",
      "\u001b[0;32m<ipython-input-147-3f61e412de0e>\u001b[0m in \u001b[0;36m<module>\u001b[0;34m()\u001b[0m\n\u001b[0;32m----> 1\u001b[0;31m \u001b[0mprint\u001b[0m\u001b[0;34m(\u001b[0m\u001b[0mquicksort\u001b[0m\u001b[0;34m(\u001b[0m\u001b[0;34m[\u001b[0m\u001b[0;36m4\u001b[0m\u001b[0;34m,\u001b[0m\u001b[0;36m2\u001b[0m\u001b[0;34m,\u001b[0m\u001b[0;36m6\u001b[0m\u001b[0;34m,\u001b[0m\u001b[0;36m8\u001b[0m\u001b[0;34m,\u001b[0m\u001b[0;36m9\u001b[0m\u001b[0;34m,\u001b[0m\u001b[0;36m10\u001b[0m\u001b[0;34m,\u001b[0m\u001b[0;36m5\u001b[0m\u001b[0;34m,\u001b[0m\u001b[0;36m3\u001b[0m\u001b[0;34m,\u001b[0m\u001b[0;36m7\u001b[0m\u001b[0;34m,\u001b[0m\u001b[0;36m1\u001b[0m\u001b[0;34m]\u001b[0m\u001b[0;34m)\u001b[0m\u001b[0;34m)\u001b[0m\u001b[0;34m\u001b[0m\u001b[0m\n\u001b[0m",
      "\u001b[0;32m<ipython-input-146-cb5909d2bd57>\u001b[0m in \u001b[0;36mquicksort\u001b[0;34m(list)\u001b[0m\n\u001b[1;32m     25\u001b[0m \u001b[0;34m\u001b[0m\u001b[0m\n\u001b[1;32m     26\u001b[0m     \u001b[0;31m# 針對bigger,smaller,middle分別執行recursive\u001b[0m\u001b[0;34m\u001b[0m\u001b[0;34m\u001b[0m\u001b[0m\n\u001b[0;32m---> 27\u001b[0;31m     \u001b[0mbig\u001b[0m \u001b[0;34m=\u001b[0m \u001b[0mquicksort\u001b[0m\u001b[0;34m(\u001b[0m\u001b[0mbig\u001b[0m\u001b[0;34m)\u001b[0m\u001b[0;34m\u001b[0m\u001b[0m\n\u001b[0m\u001b[1;32m     28\u001b[0m     \u001b[0msmall\u001b[0m \u001b[0;34m=\u001b[0m \u001b[0mquicksort\u001b[0m\u001b[0;34m(\u001b[0m\u001b[0msmall\u001b[0m\u001b[0;34m)\u001b[0m\u001b[0;34m\u001b[0m\u001b[0m\n\u001b[1;32m     29\u001b[0m     \u001b[0mmid\u001b[0m \u001b[0;34m=\u001b[0m \u001b[0mquicksort\u001b[0m\u001b[0;34m(\u001b[0m\u001b[0mmid\u001b[0m\u001b[0;34m)\u001b[0m\u001b[0;34m\u001b[0m\u001b[0m\n",
      "\u001b[0;32m<ipython-input-146-cb5909d2bd57>\u001b[0m in \u001b[0;36mquicksort\u001b[0;34m(list)\u001b[0m\n\u001b[1;32m     25\u001b[0m \u001b[0;34m\u001b[0m\u001b[0m\n\u001b[1;32m     26\u001b[0m     \u001b[0;31m# 針對bigger,smaller,middle分別執行recursive\u001b[0m\u001b[0;34m\u001b[0m\u001b[0;34m\u001b[0m\u001b[0m\n\u001b[0;32m---> 27\u001b[0;31m     \u001b[0mbig\u001b[0m \u001b[0;34m=\u001b[0m \u001b[0mquicksort\u001b[0m\u001b[0;34m(\u001b[0m\u001b[0mbig\u001b[0m\u001b[0;34m)\u001b[0m\u001b[0;34m\u001b[0m\u001b[0m\n\u001b[0m\u001b[1;32m     28\u001b[0m     \u001b[0msmall\u001b[0m \u001b[0;34m=\u001b[0m \u001b[0mquicksort\u001b[0m\u001b[0;34m(\u001b[0m\u001b[0msmall\u001b[0m\u001b[0;34m)\u001b[0m\u001b[0;34m\u001b[0m\u001b[0m\n\u001b[1;32m     29\u001b[0m     \u001b[0mmid\u001b[0m \u001b[0;34m=\u001b[0m \u001b[0mquicksort\u001b[0m\u001b[0;34m(\u001b[0m\u001b[0mmid\u001b[0m\u001b[0;34m)\u001b[0m\u001b[0;34m\u001b[0m\u001b[0m\n",
      "\u001b[0;32m<ipython-input-146-cb5909d2bd57>\u001b[0m in \u001b[0;36mquicksort\u001b[0;34m(list)\u001b[0m\n\u001b[1;32m     25\u001b[0m \u001b[0;34m\u001b[0m\u001b[0m\n\u001b[1;32m     26\u001b[0m     \u001b[0;31m# 針對bigger,smaller,middle分別執行recursive\u001b[0m\u001b[0;34m\u001b[0m\u001b[0;34m\u001b[0m\u001b[0m\n\u001b[0;32m---> 27\u001b[0;31m     \u001b[0mbig\u001b[0m \u001b[0;34m=\u001b[0m \u001b[0mquicksort\u001b[0m\u001b[0;34m(\u001b[0m\u001b[0mbig\u001b[0m\u001b[0;34m)\u001b[0m\u001b[0;34m\u001b[0m\u001b[0m\n\u001b[0m\u001b[1;32m     28\u001b[0m     \u001b[0msmall\u001b[0m \u001b[0;34m=\u001b[0m \u001b[0mquicksort\u001b[0m\u001b[0;34m(\u001b[0m\u001b[0msmall\u001b[0m\u001b[0;34m)\u001b[0m\u001b[0;34m\u001b[0m\u001b[0m\n\u001b[1;32m     29\u001b[0m     \u001b[0mmid\u001b[0m \u001b[0;34m=\u001b[0m \u001b[0mquicksort\u001b[0m\u001b[0;34m(\u001b[0m\u001b[0mmid\u001b[0m\u001b[0;34m)\u001b[0m\u001b[0;34m\u001b[0m\u001b[0m\n",
      "\u001b[0;32m<ipython-input-146-cb5909d2bd57>\u001b[0m in \u001b[0;36mquicksort\u001b[0;34m(list)\u001b[0m\n\u001b[1;32m     25\u001b[0m \u001b[0;34m\u001b[0m\u001b[0m\n\u001b[1;32m     26\u001b[0m     \u001b[0;31m# 針對bigger,smaller,middle分別執行recursive\u001b[0m\u001b[0;34m\u001b[0m\u001b[0;34m\u001b[0m\u001b[0m\n\u001b[0;32m---> 27\u001b[0;31m     \u001b[0mbig\u001b[0m \u001b[0;34m=\u001b[0m \u001b[0mquicksort\u001b[0m\u001b[0;34m(\u001b[0m\u001b[0mbig\u001b[0m\u001b[0;34m)\u001b[0m\u001b[0;34m\u001b[0m\u001b[0m\n\u001b[0m\u001b[1;32m     28\u001b[0m     \u001b[0msmall\u001b[0m \u001b[0;34m=\u001b[0m \u001b[0mquicksort\u001b[0m\u001b[0;34m(\u001b[0m\u001b[0msmall\u001b[0m\u001b[0;34m)\u001b[0m\u001b[0;34m\u001b[0m\u001b[0m\n\u001b[1;32m     29\u001b[0m     \u001b[0mmid\u001b[0m \u001b[0;34m=\u001b[0m \u001b[0mquicksort\u001b[0m\u001b[0;34m(\u001b[0m\u001b[0mmid\u001b[0m\u001b[0;34m)\u001b[0m\u001b[0;34m\u001b[0m\u001b[0m\n",
      "\u001b[0;32m<ipython-input-146-cb5909d2bd57>\u001b[0m in \u001b[0;36mquicksort\u001b[0;34m(list)\u001b[0m\n\u001b[1;32m     25\u001b[0m \u001b[0;34m\u001b[0m\u001b[0m\n\u001b[1;32m     26\u001b[0m     \u001b[0;31m# 針對bigger,smaller,middle分別執行recursive\u001b[0m\u001b[0;34m\u001b[0m\u001b[0;34m\u001b[0m\u001b[0m\n\u001b[0;32m---> 27\u001b[0;31m     \u001b[0mbig\u001b[0m \u001b[0;34m=\u001b[0m \u001b[0mquicksort\u001b[0m\u001b[0;34m(\u001b[0m\u001b[0mbig\u001b[0m\u001b[0;34m)\u001b[0m\u001b[0;34m\u001b[0m\u001b[0m\n\u001b[0m\u001b[1;32m     28\u001b[0m     \u001b[0msmall\u001b[0m \u001b[0;34m=\u001b[0m \u001b[0mquicksort\u001b[0m\u001b[0;34m(\u001b[0m\u001b[0msmall\u001b[0m\u001b[0;34m)\u001b[0m\u001b[0;34m\u001b[0m\u001b[0m\n\u001b[1;32m     29\u001b[0m     \u001b[0mmid\u001b[0m \u001b[0;34m=\u001b[0m \u001b[0mquicksort\u001b[0m\u001b[0;34m(\u001b[0m\u001b[0mmid\u001b[0m\u001b[0;34m)\u001b[0m\u001b[0;34m\u001b[0m\u001b[0m\n",
      "\u001b[0;32m<ipython-input-146-cb5909d2bd57>\u001b[0m in \u001b[0;36mquicksort\u001b[0;34m(list)\u001b[0m\n\u001b[1;32m      6\u001b[0m \u001b[0;34m\u001b[0m\u001b[0m\n\u001b[1;32m      7\u001b[0m     \u001b[0;31m# 設定key值為list的第一個值\u001b[0m\u001b[0;34m\u001b[0m\u001b[0;34m\u001b[0m\u001b[0m\n\u001b[0;32m----> 8\u001b[0;31m     \u001b[0mkey\u001b[0m \u001b[0;34m=\u001b[0m \u001b[0mlist\u001b[0m\u001b[0;34m[\u001b[0m\u001b[0;36m0\u001b[0m\u001b[0;34m]\u001b[0m\u001b[0;34m\u001b[0m\u001b[0m\n\u001b[0m\u001b[1;32m      9\u001b[0m \u001b[0;34m\u001b[0m\u001b[0m\n\u001b[1;32m     10\u001b[0m     \u001b[0;31m# 為了使用while迴圈，先將變數l設定為list的長度\u001b[0m\u001b[0;34m\u001b[0m\u001b[0;34m\u001b[0m\u001b[0m\n",
      "\u001b[0;31mIndexError\u001b[0m: list index out of range"
     ]
    }
   ],
   "source": [
    "print(quicksort([4,2,6,8,9,10,5,3,7,1]))"
   ]
  },
  {
   "cell_type": "markdown",
   "metadata": {},
   "source": [
    "## 錯誤解決（一）\n",
    "**`執行錯誤：list index out of range`**\n",
    "\n",
    "**`思考`：**想到一種可能，剛剛程式撰寫過程，少考慮了若原本的list長度小於0的這個情況，所以剛剛的程式會出錯～\n",
    "\n",
    "**`解決方法`：**在程式碼的一開始，先加入了判斷list長度的程式："
   ]
  },
  {
   "cell_type": "code",
   "execution_count": 148,
   "metadata": {},
   "outputs": [],
   "source": [
    "def quicksort(list):\n",
    "    # 設定好三個list來暫存quicksort程式碼執行完成的結果\n",
    "    small = []\n",
    "    big = []\n",
    "    mid = []\n",
    "    \n",
    "    # 為了使用while迴圈，先將變數l設定為list的長度\n",
    "    l = len(list)\n",
    "    \n",
    "    # 判斷list長度，若<=1則直接返回list\n",
    "    if l <= 1:\n",
    "        return list\n",
    "    \n",
    "    # 設定key值為list的第一個值\n",
    "    key = list[0]\n",
    "    \n",
    "    # 當list長度大於0時執行下面的動作\n",
    "    while l>0:\n",
    "        for i in list:\n",
    "            if i>key:\n",
    "                big.append(i) # list中大於key的值，將其存放至bigger內\n",
    "                l-=1\n",
    "            elif i<key:\n",
    "                small.append(i) # list中小於key的值，將其存放至smaller內\n",
    "                l-=1\n",
    "            else:\n",
    "                mid.append(i) # list中等於key的值，將其存放至middle內\n",
    "                l-=1\n",
    "    \n",
    "    # 針對bigger,smaller,middle分別執行recursive\n",
    "    big = quicksort(big)\n",
    "    small = quicksort(small)\n",
    "    return small+mid+big"
   ]
  },
  {
   "cell_type": "code",
   "execution_count": 149,
   "metadata": {},
   "outputs": [
    {
     "name": "stdout",
     "output_type": "stream",
     "text": [
      "[1, 2, 3, 4, 5, 6, 7, 8, 9, 10]\n"
     ]
    }
   ],
   "source": [
    "print(quicksort([4,2,6,8,9,10,5,3,7,1]))"
   ]
  },
  {
   "cell_type": "markdown",
   "metadata": {},
   "source": [
    "為了確保程式執行的正確性，在測試一組數值試試看："
   ]
  },
  {
   "cell_type": "code",
   "execution_count": 150,
   "metadata": {},
   "outputs": [
    {
     "name": "stdout",
     "output_type": "stream",
     "text": [
      "[1, 2, 2, 3, 4, 5, 7, 8, 10, 10, 11, 11, 13, 14, 14, 15, 19, 19, 20]\n"
     ]
    }
   ],
   "source": [
    "print(quicksort([2,2,8,10,10,20,19,19,11,11,13,14,15,14,4,5,7,3,1]))"
   ]
  },
  {
   "cell_type": "markdown",
   "metadata": {},
   "source": [
    "# 配合老師的教學建議，我也想挑戰使用多個definition的解法看看\n"
   ]
  },
  {
   "cell_type": "markdown",
   "metadata": {},
   "source": [
    "### 記得上課中老師提到過，可將 if-else 迴圈的部分另外寫成 defintion 試試看。所以我想先將if-else的部分先設成新的def partition看看"
   ]
  },
  {
   "cell_type": "code",
   "execution_count": 151,
   "metadata": {},
   "outputs": [],
   "source": [
    "def quicksort(list):\n",
    "    if len(list)<=1:\n",
    "        return list\n",
    "    else:\n",
    "        small = partition(list)\n",
    "        big = partition(list)\n",
    "        mid = partition(list)\n",
    "    small = quicksort(small)\n",
    "    big = quicksort(big)\n",
    "    return small+mid+big"
   ]
  },
  {
   "cell_type": "code",
   "execution_count": 152,
   "metadata": {},
   "outputs": [],
   "source": [
    "def partition(list):\n",
    "    key= list[0]\n",
    "    s = []\n",
    "    b = []\n",
    "    m = []\n",
    "    for i in list:\n",
    "        if i<key:\n",
    "            s.append(i)\n",
    "        elif i>key:\n",
    "            b.append(i)\n",
    "        else:\n",
    "            m.append(i)"
   ]
  },
  {
   "cell_type": "code",
   "execution_count": 153,
   "metadata": {},
   "outputs": [
    {
     "ename": "TypeError",
     "evalue": "object of type 'NoneType' has no len()",
     "output_type": "error",
     "traceback": [
      "\u001b[0;31m---------------------------------------------------------------------------\u001b[0m",
      "\u001b[0;31mTypeError\u001b[0m                                 Traceback (most recent call last)",
      "\u001b[0;32m<ipython-input-153-3f61e412de0e>\u001b[0m in \u001b[0;36m<module>\u001b[0;34m()\u001b[0m\n\u001b[0;32m----> 1\u001b[0;31m \u001b[0mprint\u001b[0m\u001b[0;34m(\u001b[0m\u001b[0mquicksort\u001b[0m\u001b[0;34m(\u001b[0m\u001b[0;34m[\u001b[0m\u001b[0;36m4\u001b[0m\u001b[0;34m,\u001b[0m\u001b[0;36m2\u001b[0m\u001b[0;34m,\u001b[0m\u001b[0;36m6\u001b[0m\u001b[0;34m,\u001b[0m\u001b[0;36m8\u001b[0m\u001b[0;34m,\u001b[0m\u001b[0;36m9\u001b[0m\u001b[0;34m,\u001b[0m\u001b[0;36m10\u001b[0m\u001b[0;34m,\u001b[0m\u001b[0;36m5\u001b[0m\u001b[0;34m,\u001b[0m\u001b[0;36m3\u001b[0m\u001b[0;34m,\u001b[0m\u001b[0;36m7\u001b[0m\u001b[0;34m,\u001b[0m\u001b[0;36m1\u001b[0m\u001b[0;34m]\u001b[0m\u001b[0;34m)\u001b[0m\u001b[0;34m)\u001b[0m\u001b[0;34m\u001b[0m\u001b[0m\n\u001b[0m",
      "\u001b[0;32m<ipython-input-151-0cb51b5bc174>\u001b[0m in \u001b[0;36mquicksort\u001b[0;34m(list)\u001b[0m\n\u001b[1;32m      6\u001b[0m         \u001b[0mbig\u001b[0m \u001b[0;34m=\u001b[0m \u001b[0mpartition\u001b[0m\u001b[0;34m(\u001b[0m\u001b[0mlist\u001b[0m\u001b[0;34m)\u001b[0m\u001b[0;34m\u001b[0m\u001b[0m\n\u001b[1;32m      7\u001b[0m         \u001b[0mmid\u001b[0m \u001b[0;34m=\u001b[0m \u001b[0mpartition\u001b[0m\u001b[0;34m(\u001b[0m\u001b[0mlist\u001b[0m\u001b[0;34m)\u001b[0m\u001b[0;34m\u001b[0m\u001b[0m\n\u001b[0;32m----> 8\u001b[0;31m     \u001b[0msmall\u001b[0m \u001b[0;34m=\u001b[0m \u001b[0mquicksort\u001b[0m\u001b[0;34m(\u001b[0m\u001b[0msmall\u001b[0m\u001b[0;34m)\u001b[0m\u001b[0;34m\u001b[0m\u001b[0m\n\u001b[0m\u001b[1;32m      9\u001b[0m     \u001b[0mbig\u001b[0m \u001b[0;34m=\u001b[0m \u001b[0mquicksort\u001b[0m\u001b[0;34m(\u001b[0m\u001b[0mbig\u001b[0m\u001b[0;34m)\u001b[0m\u001b[0;34m\u001b[0m\u001b[0m\n\u001b[1;32m     10\u001b[0m     \u001b[0;32mreturn\u001b[0m \u001b[0msmall\u001b[0m\u001b[0;34m+\u001b[0m\u001b[0mmid\u001b[0m\u001b[0;34m+\u001b[0m\u001b[0mbig\u001b[0m\u001b[0;34m\u001b[0m\u001b[0m\n",
      "\u001b[0;32m<ipython-input-151-0cb51b5bc174>\u001b[0m in \u001b[0;36mquicksort\u001b[0;34m(list)\u001b[0m\n\u001b[1;32m      1\u001b[0m \u001b[0;32mdef\u001b[0m \u001b[0mquicksort\u001b[0m\u001b[0;34m(\u001b[0m\u001b[0mlist\u001b[0m\u001b[0;34m)\u001b[0m\u001b[0;34m:\u001b[0m\u001b[0;34m\u001b[0m\u001b[0m\n\u001b[0;32m----> 2\u001b[0;31m     \u001b[0;32mif\u001b[0m \u001b[0mlen\u001b[0m\u001b[0;34m(\u001b[0m\u001b[0mlist\u001b[0m\u001b[0;34m)\u001b[0m\u001b[0;34m<=\u001b[0m\u001b[0;36m1\u001b[0m\u001b[0;34m:\u001b[0m\u001b[0;34m\u001b[0m\u001b[0m\n\u001b[0m\u001b[1;32m      3\u001b[0m         \u001b[0;32mreturn\u001b[0m \u001b[0mlist\u001b[0m\u001b[0;34m\u001b[0m\u001b[0m\n\u001b[1;32m      4\u001b[0m     \u001b[0;32melse\u001b[0m\u001b[0;34m:\u001b[0m\u001b[0;34m\u001b[0m\u001b[0m\n\u001b[1;32m      5\u001b[0m         \u001b[0msmall\u001b[0m \u001b[0;34m=\u001b[0m \u001b[0mpartition\u001b[0m\u001b[0;34m(\u001b[0m\u001b[0mlist\u001b[0m\u001b[0;34m)\u001b[0m\u001b[0;34m\u001b[0m\u001b[0m\n",
      "\u001b[0;31mTypeError\u001b[0m: object of type 'NoneType' has no len()"
     ]
    }
   ],
   "source": [
    "print(quicksort([4,2,6,8,9,10,5,3,7,1]))"
   ]
  },
  {
   "cell_type": "markdown",
   "metadata": {},
   "source": [
    "**`執行錯誤：object of type 'NoneType' has no len()`**\n",
    "\n",
    "**`思考`：**想了很久覺得可能是因為small,big,mid共用了一個def partition來執行，並未告知程式何為small、何為big以及何為mid，所以導致recursive後，list長度出現錯誤。所以我決定試試看將def分成3個來撰寫。"
   ]
  },
  {
   "cell_type": "code",
   "execution_count": 154,
   "metadata": {},
   "outputs": [],
   "source": [
    "def quicksort2(list):\n",
    "    if len(list)<=1:\n",
    "        return list\n",
    "    else:\n",
    "        small = smaller(list)\n",
    "        big = bigger(list)\n",
    "        mid = middle(list)\n",
    "        \n",
    "    small = quicksort2(small)\n",
    "    big = quicksort2(big)\n",
    "    return small+mid+big"
   ]
  },
  {
   "cell_type": "code",
   "execution_count": 155,
   "metadata": {},
   "outputs": [],
   "source": [
    "def smaller(list):\n",
    "    key = list[0]\n",
    "    small=[]\n",
    "    for i in list:\n",
    "        if i<key:\n",
    "            small.append(i)\n",
    "    return small\n",
    "            \n",
    "def bigger(list):\n",
    "    key = list[0]\n",
    "    big=[]\n",
    "    for i in list:\n",
    "        if i>key:\n",
    "            big.append(i)\n",
    "    return big\n",
    "            \n",
    "def middle(list):\n",
    "    key = list[0]\n",
    "    mid=[]\n",
    "    for i in list:\n",
    "        if i==key:\n",
    "            mid.append(i)\n",
    "    return mid"
   ]
  },
  {
   "cell_type": "code",
   "execution_count": 156,
   "metadata": {},
   "outputs": [
    {
     "name": "stdout",
     "output_type": "stream",
     "text": [
      "[1, 2, 3, 4, 5, 6, 7, 8, 9, 10]\n"
     ]
    }
   ],
   "source": [
    "print(quicksort2([4,2,6,8,9,10,5,3,7,1]))"
   ]
  },
  {
   "cell_type": "markdown",
   "metadata": {},
   "source": [
    "正確了！！！！再執行一組數值測試看看！！"
   ]
  },
  {
   "cell_type": "code",
   "execution_count": 157,
   "metadata": {},
   "outputs": [
    {
     "name": "stdout",
     "output_type": "stream",
     "text": [
      "[1, 2, 2, 3, 4, 5, 7, 8, 10, 10, 11, 11, 13, 14, 14, 15, 19, 19, 20]\n"
     ]
    }
   ],
   "source": [
    "print(quicksort2([2,2,8,10,10,20,19,19,11,11,13,14,15,14,4,5,7,3,1]))"
   ]
  },
  {
   "cell_type": "markdown",
   "metadata": {},
   "source": [
    "# 挑戰第二個方法：直接換位"
   ]
  },
  {
   "cell_type": "markdown",
   "metadata": {},
   "source": [
    "## 老師上課時說過直接換位的方法，這個對我來說比較進階QQ 我一開始先設想大概有的步驟："
   ]
  },
  {
   "cell_type": "markdown",
   "metadata": {},
   "source": [
    "1. 設定key值，並拿來當基準比較\n",
    "2. 從左邊與右邊分別找一個點比較大小，只要左邊的點比key大且右邊的點比key小，就要將兩個位置互換\n",
    "3. 因為從兩邊分別找，一定會有相遇的時候，那當相遇時因為無其他值與它比較，該怎麼辦？"
   ]
  },
  {
   "cell_type": "markdown",
   "metadata": {},
   "source": [
    "對於上述那個問題，我想此時該點左邊的點皆比key值小，右邊的點皆比key值大，所以若把該點與key值交換，則形成一個新的排序好的數列。所以第四步驟我設想應該可以直接將其與key值互換。接著recursive直到排序完成為止。"
   ]
  },
  {
   "cell_type": "markdown",
   "metadata": {},
   "source": [
    "先參考網路上的程式碼～ 寫一些自己的註解當作筆記～"
   ]
  },
  {
   "cell_type": "code",
   "execution_count": 158,
   "metadata": {},
   "outputs": [],
   "source": [
    "def quick_sort2(list, left, right): \n",
    "    # 若左邊的點的位置在右邊點的右邊，則直接返回list\n",
    "    if left >= right:\n",
    "        return list\n",
    "    \n",
    "    key = list[left]\n",
    "    left_pivot = left\n",
    "    right_pivot = right\n",
    "    \n",
    "    # 當左邊的點的位置在右邊點的位置的左邊，則執行下面的動作：\n",
    "    while left_pivot < right_pivot:\n",
    "        \n",
    "        # 當左邊的點的位置在右邊點的位置的左邊，且右邊點的值>=key，則將右邊點的位置向左一個（也就是減一），直到右邊點位置的值小於key\n",
    "        while left_pivot < right_pivot and list[right_pivot] >= key: \n",
    "            right_pivot = right_pivot - 1\n",
    "            \n",
    "        # 當左邊的點的位置在右邊點的位置的左邊，且左邊點的值<=key，則將左邊點的位置向右一個（也就是加一），直到左邊點位置的值大於key\n",
    "        while left_pivot < right_pivot and list[left_pivot] <= key: #從右向左找大於key值的\n",
    "            left_pivot = left_pivot + 1\n",
    "            \n",
    "        # 當左邊的點的位置在右邊的點的位置左邊，且右邊點的值小於左邊點的值，則將左右兩點的值的位置互換\n",
    "        if left_pivot < right_pivot:\n",
    "            list[left_pivot], list[right_pivot] = list[right_pivot], list[left_pivot]\n",
    "    \n",
    "    # 將左邊點的值與原本的key值交換\n",
    "    list[left], list[left_pivot] = list[left_pivot], list[left] \n",
    "    \n",
    "    # 分成左右兩邊的list，並各自執行recursive\n",
    "    quick_sort2(list, left, left_pivot - 1)\n",
    "    quick_sort2(list, right_pivot + 1, right)\n",
    "    return list\n",
    "\n",
    "# 為了使程式可測試整個list，一開始先控制其左邊的點位置為0，右邊的點為最後一個點的位置\n",
    "def quick_sort(list):\n",
    "    return quick_sort2(list, 0, len(list)-1)"
   ]
  },
  {
   "cell_type": "code",
   "execution_count": 159,
   "metadata": {},
   "outputs": [
    {
     "name": "stdout",
     "output_type": "stream",
     "text": [
      "result： [1, 2, 3, 4]\n"
     ]
    }
   ],
   "source": [
    "mylist = [1,4,3,2]\n",
    "print (\"result：\", quick_sort(mylist))"
   ]
  },
  {
   "cell_type": "markdown",
   "metadata": {},
   "source": [
    "# 挑戰自己設立多個definition來撰寫"
   ]
  },
  {
   "cell_type": "markdown",
   "metadata": {},
   "source": [
    "記得老師在課堂上說過：「看完他人邏輯後，過三小時再重新寫成自己的版本，那樣才會確定自己已經吸收邏輯且能夠應用。」\n",
    "\n",
    "所以我去吃了頓晚餐後，再回來試試看自己撰寫一次，並嘗試使用多個definition的方法撰寫。"
   ]
  },
  {
   "cell_type": "code",
   "execution_count": 160,
   "metadata": {},
   "outputs": [],
   "source": [
    "def quicksort_start(list):\n",
    "    return quicksort_main(list, 0, len(list)-1)"
   ]
  },
  {
   "cell_type": "code",
   "execution_count": 161,
   "metadata": {},
   "outputs": [],
   "source": [
    "def quicksort_main(list, small, big):\n",
    "    if small >= big:\n",
    "        return list\n",
    "    \n",
    "    sorting(list)\n",
    "    \n",
    "    return list"
   ]
  },
  {
   "cell_type": "code",
   "execution_count": 162,
   "metadata": {},
   "outputs": [],
   "source": [
    "def sorting(list,small,big):\n",
    "    key = list[small]\n",
    "    left = small\n",
    "    right = big\n",
    "    while left < right:\n",
    "        while left < right and list[right] >= key: \n",
    "            right = right - 1\n",
    "        while left < right and list[left] <= key: \n",
    "            left = left + 1\n",
    "        if left < right:\n",
    "            list[left], list[right] = list[right], list[left]\n",
    "    list[small], list[left] = list[left], list[small] \n",
    "    quicksort_main(list, small, left - 1)\n",
    "    quicksort_main(list, right + 1, big)"
   ]
  },
  {
   "cell_type": "code",
   "execution_count": 163,
   "metadata": {},
   "outputs": [
    {
     "ename": "TypeError",
     "evalue": "sorting() missing 2 required positional arguments: 'small' and 'big'",
     "output_type": "error",
     "traceback": [
      "\u001b[0;31m---------------------------------------------------------------------------\u001b[0m",
      "\u001b[0;31mTypeError\u001b[0m                                 Traceback (most recent call last)",
      "\u001b[0;32m<ipython-input-163-d30b7bdf0c45>\u001b[0m in \u001b[0;36m<module>\u001b[0;34m()\u001b[0m\n\u001b[0;32m----> 1\u001b[0;31m \u001b[0mprint\u001b[0m\u001b[0;34m(\u001b[0m\u001b[0mquicksort_start\u001b[0m\u001b[0;34m(\u001b[0m\u001b[0;34m[\u001b[0m\u001b[0;36m4\u001b[0m\u001b[0;34m,\u001b[0m\u001b[0;36m2\u001b[0m\u001b[0;34m,\u001b[0m\u001b[0;36m6\u001b[0m\u001b[0;34m,\u001b[0m\u001b[0;36m8\u001b[0m\u001b[0;34m,\u001b[0m\u001b[0;36m9\u001b[0m\u001b[0;34m,\u001b[0m\u001b[0;36m10\u001b[0m\u001b[0;34m,\u001b[0m\u001b[0;36m5\u001b[0m\u001b[0;34m,\u001b[0m\u001b[0;36m3\u001b[0m\u001b[0;34m,\u001b[0m\u001b[0;36m7\u001b[0m\u001b[0;34m,\u001b[0m\u001b[0;36m1\u001b[0m\u001b[0;34m]\u001b[0m\u001b[0;34m)\u001b[0m\u001b[0;34m)\u001b[0m\u001b[0;34m\u001b[0m\u001b[0m\n\u001b[0m",
      "\u001b[0;32m<ipython-input-160-107dc4f68f85>\u001b[0m in \u001b[0;36mquicksort_start\u001b[0;34m(list)\u001b[0m\n\u001b[1;32m      1\u001b[0m \u001b[0;32mdef\u001b[0m \u001b[0mquicksort_start\u001b[0m\u001b[0;34m(\u001b[0m\u001b[0mlist\u001b[0m\u001b[0;34m)\u001b[0m\u001b[0;34m:\u001b[0m\u001b[0;34m\u001b[0m\u001b[0m\n\u001b[0;32m----> 2\u001b[0;31m     \u001b[0;32mreturn\u001b[0m \u001b[0mquicksort_main\u001b[0m\u001b[0;34m(\u001b[0m\u001b[0mlist\u001b[0m\u001b[0;34m,\u001b[0m \u001b[0;36m0\u001b[0m\u001b[0;34m,\u001b[0m \u001b[0mlen\u001b[0m\u001b[0;34m(\u001b[0m\u001b[0mlist\u001b[0m\u001b[0;34m)\u001b[0m\u001b[0;34m-\u001b[0m\u001b[0;36m1\u001b[0m\u001b[0;34m)\u001b[0m\u001b[0;34m\u001b[0m\u001b[0m\n\u001b[0m",
      "\u001b[0;32m<ipython-input-161-73b9313bb716>\u001b[0m in \u001b[0;36mquicksort_main\u001b[0;34m(list, small, big)\u001b[0m\n\u001b[1;32m      3\u001b[0m         \u001b[0;32mreturn\u001b[0m \u001b[0mlist\u001b[0m\u001b[0;34m\u001b[0m\u001b[0m\n\u001b[1;32m      4\u001b[0m \u001b[0;34m\u001b[0m\u001b[0m\n\u001b[0;32m----> 5\u001b[0;31m     \u001b[0msorting\u001b[0m\u001b[0;34m(\u001b[0m\u001b[0mlist\u001b[0m\u001b[0;34m)\u001b[0m\u001b[0;34m\u001b[0m\u001b[0m\n\u001b[0m\u001b[1;32m      6\u001b[0m \u001b[0;34m\u001b[0m\u001b[0m\n\u001b[1;32m      7\u001b[0m     \u001b[0;32mreturn\u001b[0m \u001b[0mlist\u001b[0m\u001b[0;34m\u001b[0m\u001b[0m\n",
      "\u001b[0;31mTypeError\u001b[0m: sorting() missing 2 required positional arguments: 'small' and 'big'"
     ]
    }
   ],
   "source": [
    "print(quicksort_start([4,2,6,8,9,10,5,3,7,1]))"
   ]
  },
  {
   "cell_type": "markdown",
   "metadata": {},
   "source": [
    "**`執行錯誤：TypeError: sorting() missing 2 required positional arguments: 'small' and 'big'`**\n",
    "\n",
    "**`思考`：**從這個 ERROR 的解釋來看，我覺得他應該是在 sorting 這個 definition 中缺少了 small 和 big 的兩個值去跑程式，所以才會出錯，從 ERROR 中可以看到，程式跑到 sorting(list) 這行時才停止，且 sorting 這個 def 需要 list,small,big 三個指令來執行，所以發現應該是自己太粗心漏給了small跟big兩個欄位值QQ"
   ]
  },
  {
   "cell_type": "code",
   "execution_count": 164,
   "metadata": {},
   "outputs": [],
   "source": [
    "def quicksort_start(list):\n",
    "    return quicksort_main(list, 0, len(list)-1)"
   ]
  },
  {
   "cell_type": "code",
   "execution_count": 165,
   "metadata": {},
   "outputs": [],
   "source": [
    "def quicksort_main(list, small, big):\n",
    "    if small >= big:\n",
    "        return list\n",
    "    \n",
    "    sorting(list,small,big)\n",
    "    \n",
    "    return list"
   ]
  },
  {
   "cell_type": "code",
   "execution_count": 166,
   "metadata": {},
   "outputs": [],
   "source": [
    "def sorting(list,small,big):\n",
    "    key = list[small]\n",
    "    left = small\n",
    "    right = big\n",
    "    while left < right:\n",
    "        while left < right and list[right] >= key: \n",
    "            right = right - 1\n",
    "        while left < right and list[left] <= key: \n",
    "            left = left + 1\n",
    "        if left < right:\n",
    "            list[left], list[right] = list[right], list[left]\n",
    "    list[small], list[left] = list[left], list[small] \n",
    "    quicksort_main(list, small, left - 1)\n",
    "    quicksort_main(list, right + 1, big)"
   ]
  },
  {
   "cell_type": "code",
   "execution_count": 167,
   "metadata": {},
   "outputs": [
    {
     "name": "stdout",
     "output_type": "stream",
     "text": [
      "[1, 2, 3, 4, 5, 6, 7, 8, 9, 10]\n"
     ]
    }
   ],
   "source": [
    "print(quicksort_start([4,2,6,8,9,10,5,3,7,1]))"
   ]
  },
  {
   "cell_type": "markdown",
   "metadata": {},
   "source": [
    "成功了！！！！再試一個測試組來看看！"
   ]
  },
  {
   "cell_type": "code",
   "execution_count": 168,
   "metadata": {},
   "outputs": [
    {
     "name": "stdout",
     "output_type": "stream",
     "text": [
      "[1, 2, 2, 3, 4, 5, 7, 8, 10, 10, 11, 11, 13, 14, 14, 15, 19, 19, 20]\n"
     ]
    }
   ],
   "source": [
    "print(quicksort_start([2,2,8,10,10,20,19,19,11,11,13,14,15,14,4,5,7,3,1]))"
   ]
  },
  {
   "cell_type": "code",
   "execution_count": null,
   "metadata": {},
   "outputs": [],
   "source": []
  }
 ],
 "metadata": {
  "kernelspec": {
   "display_name": "Python 3",
   "language": "python",
   "name": "python3"
  },
  "language_info": {
   "codemirror_mode": {
    "name": "ipython",
    "version": 3
   },
   "file_extension": ".py",
   "mimetype": "text/x-python",
   "name": "python",
   "nbconvert_exporter": "python",
   "pygments_lexer": "ipython3",
   "version": "3.6.4"
  }
 },
 "nbformat": 4,
 "nbformat_minor": 2
}
