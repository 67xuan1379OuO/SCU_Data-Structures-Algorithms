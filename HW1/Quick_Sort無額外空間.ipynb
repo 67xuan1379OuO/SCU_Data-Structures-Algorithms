{
 "cells": [
  {
   "cell_type": "markdown",
   "metadata": {},
   "source": [
    "# in-place直接互換（無需額外空間）"
   ]
  },
  {
   "cell_type": "markdown",
   "metadata": {},
   "source": [
    "### 下面這是網路上找到的程式邏輯，註解為我對這個程式碼的語法解釋。\n",
    "\n",
    "### 我決定改寫這個邏輯，自己再重寫一次自己的程式碼版本："
   ]
  },
  {
   "cell_type": "code",
   "execution_count": 56,
   "metadata": {},
   "outputs": [],
   "source": [
    "def quick_sort2(list, left, right): \n",
    "    # 若左邊的點的位置在右邊點的右邊，則直接返回list\n",
    "    if left >= right:\n",
    "        return list\n",
    "    \n",
    "    key = list[left]\n",
    "    left_pivot = left\n",
    "    right_pivot = right\n",
    "    \n",
    "    # 當左邊的點的位置在右邊點的位置的左邊，則執行下面的動作：\n",
    "    while left_pivot < right_pivot:\n",
    "        \n",
    "        # 當左邊的點的位置在右邊點的位置的左邊，且右邊點的值>=key，則將右邊點的位置向左一個（也就是減一），直到右邊點位置的值小於key\n",
    "        while left_pivot < right_pivot and list[right_pivot] >= key: \n",
    "            right_pivot = right_pivot - 1\n",
    "            \n",
    "        # 當左邊的點的位置在右邊點的位置的左邊，且左邊點的值<=key，則將左邊點的位置向右一個（也就是加一），直到左邊點位置的值大於key\n",
    "        while left_pivot < right_pivot and list[left_pivot] <= key: #從右向左找大於key值的\n",
    "            left_pivot = left_pivot + 1\n",
    "            \n",
    "        # 當左邊的點的位置在右邊的點的位置左邊，且右邊點的值小於左邊點的值，則將左右兩點的值的位置互換\n",
    "        if left_pivot < right_pivot:\n",
    "            list[left_pivot], list[right_pivot] = list[right_pivot], list[left_pivot]\n",
    "    \n",
    "    # 將左邊點的值與原本的key值交換\n",
    "    list[left], list[left_pivot] = list[left_pivot], list[left] \n",
    "    \n",
    "    # 分成左右兩邊的list，並各自執行recursive\n",
    "    quick_sort2(list, left, left_pivot - 1)\n",
    "    quick_sort2(list, right_pivot + 1, right)\n",
    "    return list\n",
    "\n",
    "# 為了使程式可測試整個list，一開始先控制其左邊的點位置為0，右邊的點為最後一個點的位置\n",
    "def quick_sort(list):\n",
    "    return quick_sort2(list, 0, len(list)-1)"
   ]
  },
  {
   "cell_type": "code",
   "execution_count": 57,
   "metadata": {},
   "outputs": [
    {
     "name": "stdout",
     "output_type": "stream",
     "text": [
      "result： [1, 2, 3, 4]\n"
     ]
    }
   ],
   "source": [
    "mylist = [1,4,3,2]\n",
    "print (\"result：\", quick_sort(mylist))"
   ]
  },
  {
   "cell_type": "markdown",
   "metadata": {},
   "source": [
    "## 第一次測試：（設立多個definition）"
   ]
  },
  {
   "cell_type": "markdown",
   "metadata": {},
   "source": [
    "記得老師在課堂上說過：「看完他人邏輯後，過三小時再重新寫成自己的版本，那樣才會確定自己已經吸收邏輯且能夠應用。」\n",
    "\n",
    "所以我去吃了頓晚餐後，再回來試試看自己撰寫一次，並嘗試使用多個definition的方法撰寫。"
   ]
  },
  {
   "cell_type": "code",
   "execution_count": 96,
   "metadata": {},
   "outputs": [],
   "source": [
    "def quicksort_start(list):\n",
    "    return quicksort_main(list, 0, len(list)-1)"
   ]
  },
  {
   "cell_type": "code",
   "execution_count": 97,
   "metadata": {},
   "outputs": [],
   "source": [
    "def quicksort_main(list, small, big):\n",
    "    if small >= big:\n",
    "        return list\n",
    "    \n",
    "    sorting(list)\n",
    "    \n",
    "    return list"
   ]
  },
  {
   "cell_type": "code",
   "execution_count": 98,
   "metadata": {},
   "outputs": [],
   "source": [
    "def sorting(list,small,big):\n",
    "    key = list[small]\n",
    "    left = small\n",
    "    right = big\n",
    "    while left < right:\n",
    "        while left < right and list[right] >= key: \n",
    "            right = right - 1\n",
    "        while left < right and list[left] <= key: \n",
    "            left = left + 1\n",
    "        if left < right:\n",
    "            list[left], list[right] = list[right], list[left]\n",
    "    list[small], list[left] = list[left], list[small] \n",
    "    quicksort_main(list, small, left - 1)\n",
    "    quicksort_main(list, right + 1, big)"
   ]
  },
  {
   "cell_type": "code",
   "execution_count": 99,
   "metadata": {},
   "outputs": [
    {
     "ename": "TypeError",
     "evalue": "sorting() missing 2 required positional arguments: 'small' and 'big'",
     "output_type": "error",
     "traceback": [
      "\u001b[0;31m---------------------------------------------------------------------------\u001b[0m",
      "\u001b[0;31mTypeError\u001b[0m                                 Traceback (most recent call last)",
      "\u001b[0;32m<ipython-input-99-d30b7bdf0c45>\u001b[0m in \u001b[0;36m<module>\u001b[0;34m()\u001b[0m\n\u001b[0;32m----> 1\u001b[0;31m \u001b[0mprint\u001b[0m\u001b[0;34m(\u001b[0m\u001b[0mquicksort_start\u001b[0m\u001b[0;34m(\u001b[0m\u001b[0;34m[\u001b[0m\u001b[0;36m4\u001b[0m\u001b[0;34m,\u001b[0m\u001b[0;36m2\u001b[0m\u001b[0;34m,\u001b[0m\u001b[0;36m6\u001b[0m\u001b[0;34m,\u001b[0m\u001b[0;36m8\u001b[0m\u001b[0;34m,\u001b[0m\u001b[0;36m9\u001b[0m\u001b[0;34m,\u001b[0m\u001b[0;36m10\u001b[0m\u001b[0;34m,\u001b[0m\u001b[0;36m5\u001b[0m\u001b[0;34m,\u001b[0m\u001b[0;36m3\u001b[0m\u001b[0;34m,\u001b[0m\u001b[0;36m7\u001b[0m\u001b[0;34m,\u001b[0m\u001b[0;36m1\u001b[0m\u001b[0;34m]\u001b[0m\u001b[0;34m)\u001b[0m\u001b[0;34m)\u001b[0m\u001b[0;34m\u001b[0m\u001b[0m\n\u001b[0m",
      "\u001b[0;32m<ipython-input-96-107dc4f68f85>\u001b[0m in \u001b[0;36mquicksort_start\u001b[0;34m(list)\u001b[0m\n\u001b[1;32m      1\u001b[0m \u001b[0;32mdef\u001b[0m \u001b[0mquicksort_start\u001b[0m\u001b[0;34m(\u001b[0m\u001b[0mlist\u001b[0m\u001b[0;34m)\u001b[0m\u001b[0;34m:\u001b[0m\u001b[0;34m\u001b[0m\u001b[0m\n\u001b[0;32m----> 2\u001b[0;31m     \u001b[0;32mreturn\u001b[0m \u001b[0mquicksort_main\u001b[0m\u001b[0;34m(\u001b[0m\u001b[0mlist\u001b[0m\u001b[0;34m,\u001b[0m \u001b[0;36m0\u001b[0m\u001b[0;34m,\u001b[0m \u001b[0mlen\u001b[0m\u001b[0;34m(\u001b[0m\u001b[0mlist\u001b[0m\u001b[0;34m)\u001b[0m\u001b[0;34m-\u001b[0m\u001b[0;36m1\u001b[0m\u001b[0;34m)\u001b[0m\u001b[0;34m\u001b[0m\u001b[0m\n\u001b[0m",
      "\u001b[0;32m<ipython-input-97-73b9313bb716>\u001b[0m in \u001b[0;36mquicksort_main\u001b[0;34m(list, small, big)\u001b[0m\n\u001b[1;32m      3\u001b[0m         \u001b[0;32mreturn\u001b[0m \u001b[0mlist\u001b[0m\u001b[0;34m\u001b[0m\u001b[0m\n\u001b[1;32m      4\u001b[0m \u001b[0;34m\u001b[0m\u001b[0m\n\u001b[0;32m----> 5\u001b[0;31m     \u001b[0msorting\u001b[0m\u001b[0;34m(\u001b[0m\u001b[0mlist\u001b[0m\u001b[0;34m)\u001b[0m\u001b[0;34m\u001b[0m\u001b[0m\n\u001b[0m\u001b[1;32m      6\u001b[0m \u001b[0;34m\u001b[0m\u001b[0m\n\u001b[1;32m      7\u001b[0m     \u001b[0;32mreturn\u001b[0m \u001b[0mlist\u001b[0m\u001b[0;34m\u001b[0m\u001b[0m\n",
      "\u001b[0;31mTypeError\u001b[0m: sorting() missing 2 required positional arguments: 'small' and 'big'"
     ]
    }
   ],
   "source": [
    "print(quicksort_start([4,2,6,8,9,10,5,3,7,1]))"
   ]
  },
  {
   "cell_type": "markdown",
   "metadata": {},
   "source": [
    "**`執行錯誤：TypeError: sorting() missing 2 required positional arguments: 'small' and 'big'`**\n",
    "\n",
    "**`思考`：**從這個 ERROR 的解釋來看，我覺得他應該是在 sorting 這個 definition 中缺少了 small 和 big 的兩個值去跑程式，所以才會出錯，從 ERROR 中可以看到，程式跑到 sorting(list) 這行時才停止，且 sorting 這個 def 需要 list,small,big 三個指令來執行，所以發現應該是自己太粗心漏給了small跟big兩個欄位值QQ"
   ]
  },
  {
   "cell_type": "code",
   "execution_count": 104,
   "metadata": {},
   "outputs": [],
   "source": [
    "def quicksort_start(list):\n",
    "    return quicksort_main(list, 0, len(list)-1)"
   ]
  },
  {
   "cell_type": "code",
   "execution_count": 105,
   "metadata": {},
   "outputs": [],
   "source": [
    "def quicksort_main(list, small, big):\n",
    "    if small >= big:\n",
    "        return list\n",
    "    \n",
    "    sorting(list,small,big)\n",
    "    \n",
    "    return list"
   ]
  },
  {
   "cell_type": "code",
   "execution_count": 106,
   "metadata": {},
   "outputs": [],
   "source": [
    "def sorting(list,small,big):\n",
    "    key = list[small]\n",
    "    left = small\n",
    "    right = big\n",
    "    while left < right:\n",
    "        while left < right and list[right] >= key: \n",
    "            right = right - 1\n",
    "        while left < right and list[left] <= key: \n",
    "            left = left + 1\n",
    "        if left < right:\n",
    "            list[left], list[right] = list[right], list[left]\n",
    "    list[small], list[left] = list[left], list[small] \n",
    "    quicksort_main(list, small, left - 1)\n",
    "    quicksort_main(list, right + 1, big)"
   ]
  },
  {
   "cell_type": "code",
   "execution_count": 107,
   "metadata": {},
   "outputs": [
    {
     "name": "stdout",
     "output_type": "stream",
     "text": [
      "[1, 2, 3, 4, 5, 6, 7, 8, 9, 10]\n"
     ]
    }
   ],
   "source": [
    "print(quicksort_start([4,2,6,8,9,10,5,3,7,1]))"
   ]
  },
  {
   "cell_type": "markdown",
   "metadata": {},
   "source": [
    "成功了！！！！再試一個測試組來看看！"
   ]
  },
  {
   "cell_type": "code",
   "execution_count": 108,
   "metadata": {},
   "outputs": [
    {
     "name": "stdout",
     "output_type": "stream",
     "text": [
      "[1, 2, 2, 3, 4, 5, 7, 8, 10, 10, 11, 11, 13, 14, 14, 15, 19, 19, 20]\n"
     ]
    }
   ],
   "source": [
    "print(quicksort_start([2,2,8,10,10,20,19,19,11,11,13,14,15,14,4,5,7,3,1]))"
   ]
  },
  {
   "cell_type": "code",
   "execution_count": null,
   "metadata": {},
   "outputs": [],
   "source": []
  }
 ],
 "metadata": {
  "kernelspec": {
   "display_name": "Python 3",
   "language": "python",
   "name": "python3"
  },
  "language_info": {
   "codemirror_mode": {
    "name": "ipython",
    "version": 3
   },
   "file_extension": ".py",
   "mimetype": "text/x-python",
   "name": "python",
   "nbconvert_exporter": "python",
   "pygments_lexer": "ipython3",
   "version": "3.6.4"
  }
 },
 "nbformat": 4,
 "nbformat_minor": 2
}
